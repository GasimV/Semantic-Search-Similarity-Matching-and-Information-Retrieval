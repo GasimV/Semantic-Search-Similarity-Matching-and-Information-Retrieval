{
 "cells": [
  {
   "cell_type": "code",
   "execution_count": null,
   "metadata": {},
   "outputs": [],
   "source": [
    "import faiss\n",
    "import json\n",
    "from sentence_transformers import SentenceTransformer\n",
    "import numpy as np\n",
    "import pandas as pd\n",
    "from tqdm import tqdm\n",
    "from pathlib import Path\n",
    "from sklearn.metrics.pairwise import cosine_similarity\n",
    "from sklearn.metrics import accuracy_score"
   ]
  },
  {
   "cell_type": "code",
   "execution_count": null,
   "metadata": {},
   "outputs": [],
   "source": [
    "documents_path = Path(\"../documents/\")\n",
    "documents_relative_paths = [file.relative_to(documents_path) for file in documents_path.glob('*') if file.is_file()]"
   ]
  },
  {
   "cell_type": "code",
   "execution_count": null,
   "metadata": {},
   "outputs": [],
   "source": [
    "model = SentenceTransformer('msmarco-distilbert-base-tas-b-fine-tunned-az-10')"
   ]
  },
  {
   "cell_type": "code",
   "execution_count": null,
   "metadata": {},
   "outputs": [],
   "source": [
    "request = model.encode(\"hello\")"
   ]
  },
  {
   "cell_type": "code",
   "execution_count": null,
   "metadata": {},
   "outputs": [],
   "source": [
    "embeddings_data = pd.DataFrame(columns=[x for x in range(len(request))])\n",
    "text_data = pd.DataFrame(columns=[\"article\", \"text\", \"document\"])"
   ]
  },
  {
   "cell_type": "code",
   "execution_count": null,
   "metadata": {},
   "outputs": [],
   "source": [
    "for index, text in enumerate(documents_relative_paths):\n",
    "    path_to_document = sorted(Path('..').glob(f'**/{documents_relative_paths[index]}'))[0]\n",
    "    name = str(path_to_document).replace(\"..\\documents\", \"\")[1:].split(\".\")[0]\n",
    "    print(path_to_document)\n",
    "    with open(str(path_to_document), \"r\", encoding=\"utf-8\") as file:\n",
    "        file = json.load(file)\n",
    "\n",
    "    embeddings_file = pd.DataFrame([model.encode(f\"{i}\\n{file[i]}\") for i in tqdm(file)])\n",
    "    text_data_1 = pd.DataFrame(columns=[\"article\", \"text\", \"document\"])\n",
    "\n",
    "    text_data_1[\"article\"] = [i for i in file]\n",
    "    text_data_1[\"text\"] = [file[i] for i in file]\n",
    "    text_data_1[\"document\"] = name\n",
    "\n",
    "    text_data = pd.concat([text_data, text_data_1])\n",
    "    embeddings_data = pd.concat([embeddings_data, embeddings_file])"
   ]
  },
  {
   "cell_type": "code",
   "execution_count": null,
   "metadata": {},
   "outputs": [],
   "source": [
    "text_data_1"
   ]
  },
  {
   "cell_type": "code",
   "execution_count": null,
   "metadata": {},
   "outputs": [],
   "source": [
    "text_data_1 = text_data.reset_index(drop=True).to_csv(\"E:\\Software\\Data Science and AI\\NLP\\Edliyye\\Legal Acts Question Answering\\NLP project Notarius\\sorter\\search\\other\\documents\\text_data\", index=False)\n",
    "embeddings_data = embeddings_data.reset_index(drop=True).to_csv(\"E:\\Software\\Data Science and AI\\NLP\\Edliyye\\Legal Acts Question Answering\\NLP project Notarius\\sorter\\search\\other\\documents\\embeddings_data\", index=False)"
   ]
  },
  {
   "cell_type": "code",
   "execution_count": null,
   "metadata": {},
   "outputs": [],
   "source": [
    "embeddings_data = pd.read_csv(\"E:\\Software\\Data Science and AI\\NLP\\Edliyye\\Legal Acts Question Answering\\NLP project Notarius\\sorter\\search\\other\\documents\\embeddings_data\")"
   ]
  },
  {
   "cell_type": "code",
   "execution_count": null,
   "metadata": {},
   "outputs": [],
   "source": [
    "dims = embeddings_data.shape[1]\n",
    "cells = 1\n",
    "\n",
    "index_flat = faiss.IndexFlatL2(dims)\n",
    "clustering_index = faiss.index_cpu_to_all_gpus(index_flat)\n",
    "idx_l1 = faiss.IndexIVFFlat(clustering_index, dims, cells)\n",
    "\n",
    "idx_l1.train(np.ascontiguousarray(embeddings_data).astype('float32'))\n",
    "idx_l1.add(np.ascontiguousarray(embeddings_data).astype('float32'))\n",
    "idx_l1 = faiss.index_gpu_to_cpu(idx_l1)"
   ]
  },
  {
   "cell_type": "code",
   "execution_count": null,
   "metadata": {},
   "outputs": [],
   "source": [
    "faiss.write_index(idx_l1, f\"E:\\Software\\Data Science and AI\\NLP\\Edliyye\\Legal Acts Question Answering\\NLP project Notarius\\sorter\\search\\other\\models\\model.faiss\")"
   ]
  }
 ],
 "metadata": {
  "kernelspec": {
   "display_name": "Python 3",
   "language": "python",
   "name": "python3"
  },
  "language_info": {
   "codemirror_mode": {
    "name": "ipython",
    "version": 3
   },
   "file_extension": ".py",
   "mimetype": "text/x-python",
   "name": "python",
   "nbconvert_exporter": "python",
   "pygments_lexer": "ipython3",
   "version": "3.7.3"
  }
 },
 "nbformat": 4,
 "nbformat_minor": 2
}
