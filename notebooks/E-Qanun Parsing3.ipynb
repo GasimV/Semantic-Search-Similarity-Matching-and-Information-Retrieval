{
 "cells": [
  {
   "cell_type": "code",
   "execution_count": null,
   "metadata": {},
   "outputs": [],
   "source": [
    "import json\n",
    "import re\n",
    "import pandas as pd\n",
    "from collections import defaultdict"
   ]
  },
  {
   "cell_type": "code",
   "execution_count": null,
   "metadata": {},
   "outputs": [],
   "source": [
    "def cleanned_text(text):\n",
    "    azerbaijani_alphabet = re.compile(r'[^AaBbCcÇçDdEeƏəFfGgĞğHhXxIıİiJjKkQqLlMmNnOoÖöPpRrSsŞşTtUuÜüVvYyZz]')\n",
    "    txt =  azerbaijani_alphabet.sub(\" \", text)\n",
    "    txt = re.sub(r'\\s+', ' ', txt)\n",
    "    txt = re.sub(r'\\s+', ' ', txt)\n",
    "    return txt.lower().strip()"
   ]
  },
  {
   "cell_type": "code",
   "execution_count": null,
   "metadata": {},
   "outputs": [],
   "source": [
    "with open(\"E:\\\\Software\\\\Data Science and AI\\\\NLP\\\\Edliyye\\\\Legal Acts Question Answering\\\\eqanundocs\\\\1-10_000.json\", \"r\", encoding=\"utf-8\") as file:\n",
    "    documents = json.load(file)"
   ]
  },
  {
   "cell_type": "code",
   "execution_count": null,
   "metadata": {},
   "outputs": [],
   "source": [
    "len(documents)"
   ]
  },
  {
   "cell_type": "code",
   "execution_count": null,
   "metadata": {},
   "outputs": [],
   "source": [
    "laws_keyword = \"azərbaycan respublikasının qanunu\"\n",
    "president_keyword1 = \"azərbaycan respublikası prezidentinin sərəncamı\"\n",
    "president_keyword2 = \"azərbaycan respublikası prezidentinin fərmanı\"\n",
    "minist_keyword = \"azərbaycan respublikasının nazirlər kabineti qərarı\"\n",
    "ministry_of_justice = \"dövlət qeydiyyatına alınmışdır azərbaycan respublikasının ədliyyə nazirliyi qeydiyyat\"\n",
    "ussr_president_f = \"azərbaycan sovet sosialist respublikası prezidentinin fərmanı\"\n",
    "ussr_president_laws = \"azərbaycan sovet sosialist respublikasının qanunu\"\n",
    "konstitution_laws = \"azərbaycan respublikasının konstitusiya qanunu\""
   ]
  },
  {
   "cell_type": "code",
   "execution_count": null,
   "metadata": {},
   "outputs": [],
   "source": [
    "\"azərbaycan respublikasının nazirlər kabineti azərbaycan\".find(\"nazirlər\")"
   ]
  },
  {
   "cell_type": "code",
   "execution_count": null,
   "metadata": {},
   "outputs": [],
   "source": [
    "data = pd.DataFrame(columns=[\"title\", \"text\", \"class\"])\n",
    "index = 0\n",
    "for i in documents:\n",
    "    title = cleanned_text(i[\"title\"])\n",
    "    text = cleanned_text(i[\"text\"])\n",
    "\n",
    "    try:\n",
    "        text = text.replace(\"f rmanı\", \"fərmanı\")\n",
    "    except Exception as ex:\n",
    "        text = text\n",
    "\n",
    "    try:\n",
    "        text = text.replace(\"f ə r m a n ı\", \"fərmanı\")\n",
    "    except Exception as ex:\n",
    "        text = text\n",
    "\n",
    "    try:\n",
    "        text = text.replace(\"q ə r a r ı\", \"qərarı\")\n",
    "    except Exception as ex:\n",
    "        text = text\n",
    "    \n",
    "    try:\n",
    "        text = text.replace(\"qərar\", \"qərarı\")\n",
    "    except Exception as ex:\n",
    "        text = text\n",
    "\n",
    "    try:\n",
    "        text = text.replace(\"qərara\", \"qərarı\")\n",
    "    except Exception as ex:\n",
    "        text = text\n",
    "    \n",
    "    try:\n",
    "        text = text.replace(\"qərarıa\", \"qərarı\")\n",
    "    except Exception as ex:\n",
    "        text = text\n",
    "\n",
    "    try:\n",
    "        text = text.replace(\"sərəncaml\", \"sərəncamı\")\n",
    "    except Exception as ex:\n",
    "        text = text\n",
    "\n",
    "    txt = text[len(title):].strip()\n",
    "\n",
    "    if txt.find(\"qanunu\") < 37 and txt.find(\"qanunu\") > -1:\n",
    "        data.loc[index] = title, text, laws_keyword\n",
    "        index += 1\n",
    "\n",
    "    elif txt.find(\"sərəncamı\") < 68 and txt.find(\"sərəncamı\") > -1:\n",
    "        data.loc[index] = title, text, president_keyword1\n",
    "        index += 1\n",
    "    \n",
    "    elif txt.find(\"fərmanı\") < 68 and txt.find(\"fərmanı\") > -1:\n",
    "        data.loc[index] = title, text, president_keyword2\n",
    "        index += 1\n",
    "    \n",
    "    elif (txt.find(\"qərarı\") < 55 and txt.find(\"qərarı\") > -1) or (txt.find(\"nazirlər\") < 37 and txt.find(\"nazirlər\") > -1):\n",
    "        data.loc[index] = title, text, minist_keyword\n",
    "        index += 1\n",
    "\n",
    "    elif txt.find(\"ədliyyə nazirliyi\") < 25 and txt.find(\"ədliyyə nazirliyi\") > -1:\n",
    "        data.loc[index] = title, text, ministry_of_justice\n",
    "        index += 1\n",
    "    \n",
    "    elif txt.find(ussr_president_f) < 10 and txt.find(ussr_president_f) > -1:\n",
    "        data.loc[index] = title, text, ussr_president_f\n",
    "        index += 1\n",
    "    \n",
    "    elif txt.find(ussr_president_laws) < 10 and txt.find(ussr_president_laws) > -1:\n",
    "        data.loc[index] = title, text, ussr_president_laws\n",
    "        index += 1\n",
    "    \n",
    "    elif txt.find(konstitution_laws) < 10 and txt.find(konstitution_laws) > -1:\n",
    "        data.loc[index] = title, text, konstitution_laws\n",
    "        index += 1\n",
    "\n",
    "    else:\n",
    "        data.loc[index] = title, text, \"other\"\n",
    "        index += 1\n",
    "        print(txt)\n"
   ]
  },
  {
   "cell_type": "code",
   "execution_count": null,
   "metadata": {},
   "outputs": [],
   "source": [
    "data.groupby(\"class\").count()"
   ]
  },
  {
   "cell_type": "code",
   "execution_count": null,
   "metadata": {},
   "outputs": [],
   "source": []
  }
 ],
 "metadata": {
  "kernelspec": {
   "display_name": "Python 3",
   "language": "python",
   "name": "python3"
  },
  "language_info": {
   "codemirror_mode": {
    "name": "ipython",
    "version": 3
   },
   "file_extension": ".py",
   "mimetype": "text/x-python",
   "name": "python",
   "nbconvert_exporter": "python",
   "pygments_lexer": "ipython3",
   "version": "3.7.3"
  }
 },
 "nbformat": 4,
 "nbformat_minor": 2
}
